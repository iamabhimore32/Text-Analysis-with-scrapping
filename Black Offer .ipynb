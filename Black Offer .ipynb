{
 "cells": [
  {
   "cell_type": "code",
   "execution_count": 4,
   "id": "aae9d471",
   "metadata": {},
   "outputs": [
    {
     "name": "stdout",
     "output_type": "stream",
     "text": [
      "Data extracted from https://insights.blackcoffer.com/rising-it-cities-and-its-impact-on-the-economy-environment-infrastructure-and-city-life-by-the-year-2040-2/ and saved to output_texts\\blackassign0001.txt\n",
      "Data extracted from https://insights.blackcoffer.com/rising-it-cities-and-their-impact-on-the-economy-environment-infrastructure-and-city-life-in-future/ and saved to output_texts\\blackassign0002.txt\n",
      "Data extracted from https://insights.blackcoffer.com/internet-demands-evolution-communication-impact-and-2035s-alternative-pathways/ and saved to output_texts\\blackassign0003.txt\n",
      "Data extracted from https://insights.blackcoffer.com/rise-of-cybercrime-and-its-effect-in-upcoming-future/ and saved to output_texts\\blackassign0004.txt\n",
      "Data extracted from https://insights.blackcoffer.com/ott-platform-and-its-impact-on-the-entertainment-industry-in-future/ and saved to output_texts\\blackassign0005.txt\n",
      "Data extracted from https://insights.blackcoffer.com/the-rise-of-the-ott-platform-and-its-impact-on-the-entertainment-industry-by-2040/ and saved to output_texts\\blackassign0006.txt\n",
      "Data extracted from https://insights.blackcoffer.com/rise-of-cyber-crime-and-its-effects/ and saved to output_texts\\blackassign0007.txt\n",
      "Data extracted from https://insights.blackcoffer.com/rise-of-internet-demand-and-its-impact-on-communications-and-alternatives-by-the-year-2035-2/ and saved to output_texts\\blackassign0008.txt\n",
      "Data extracted from https://insights.blackcoffer.com/rise-of-cybercrime-and-its-effect-by-the-year-2040-2/ and saved to output_texts\\blackassign0009.txt\n",
      "Data extracted from https://insights.blackcoffer.com/rise-of-cybercrime-and-its-effect-by-the-year-2040/ and saved to output_texts\\blackassign0010.txt\n",
      "Data extracted from https://insights.blackcoffer.com/rise-of-internet-demand-and-its-impact-on-communications-and-alternatives-by-the-year-2035/ and saved to output_texts\\blackassign0011.txt\n",
      "Data extracted from https://insights.blackcoffer.com/rise-of-telemedicine-and-its-impact-on-livelihood-by-2040-3-2/ and saved to output_texts\\blackassign0012.txt\n",
      "Data extracted from https://insights.blackcoffer.com/rise-of-e-health-and-its-impact-on-humans-by-the-year-2030/ and saved to output_texts\\blackassign0013.txt\n",
      "Data extracted from https://insights.blackcoffer.com/rise-of-e-health-and-its-imapct-on-humans-by-the-year-2030-2/ and saved to output_texts\\blackassign0014.txt\n",
      "Data extracted from https://insights.blackcoffer.com/rise-of-telemedicine-and-its-impact-on-livelihood-by-2040-2/ and saved to output_texts\\blackassign0015.txt\n",
      "Data extracted from https://insights.blackcoffer.com/rise-of-telemedicine-and-its-impact-on-livelihood-by-2040-2-2/ and saved to output_texts\\blackassign0016.txt\n",
      "Data extracted from https://insights.blackcoffer.com/rise-of-chatbots-and-its-impact-on-customer-support-by-the-year-2040/ and saved to output_texts\\blackassign0017.txt\n",
      "Data extracted from https://insights.blackcoffer.com/rise-of-e-health-and-its-imapct-on-humans-by-the-year-2030/ and saved to output_texts\\blackassign0018.txt\n",
      "Data extracted from https://insights.blackcoffer.com/how-does-marketing-influence-businesses-and-consumers/ and saved to output_texts\\blackassign0019.txt\n",
      "Data extracted from https://insights.blackcoffer.com/how-advertisement-increase-your-market-value/ and saved to output_texts\\blackassign0020.txt\n",
      "Data extracted from https://insights.blackcoffer.com/negative-effects-of-marketing-on-society/ and saved to output_texts\\blackassign0021.txt\n",
      "Data extracted from https://insights.blackcoffer.com/how-advertisement-marketing-affects-business/ and saved to output_texts\\blackassign0022.txt\n",
      "Data extracted from https://insights.blackcoffer.com/rising-it-cities-will-impact-the-economy-environment-infrastructure-and-city-life-by-the-year-2035/ and saved to output_texts\\blackassign0023.txt\n",
      "Data extracted from https://insights.blackcoffer.com/rise-of-ott-platform-and-its-impact-on-entertainment-industry-by-the-year-2030/ and saved to output_texts\\blackassign0024.txt\n",
      "Data extracted from https://insights.blackcoffer.com/rise-of-electric-vehicles-and-its-impact-on-livelihood-by-2040/ and saved to output_texts\\blackassign0025.txt\n",
      "Data extracted from https://insights.blackcoffer.com/rise-of-electric-vehicle-and-its-impact-on-livelihood-by-the-year-2040/ and saved to output_texts\\blackassign0026.txt\n",
      "Data extracted from https://insights.blackcoffer.com/oil-prices-by-the-year-2040-and-how-it-will-impact-the-world-economy/ and saved to output_texts\\blackassign0027.txt\n",
      "Data extracted from https://insights.blackcoffer.com/an-outlook-of-healthcare-by-the-year-2040-and-how-it-will-impact-human-lives/ and saved to output_texts\\blackassign0028.txt\n",
      "Data extracted from https://insights.blackcoffer.com/ai-in-healthcare-to-improve-patient-outcomes/ and saved to output_texts\\blackassign0029.txt\n",
      "Data extracted from https://insights.blackcoffer.com/what-if-the-creation-is-taking-over-the-creator/ and saved to output_texts\\blackassign0030.txt\n",
      "Data extracted from https://insights.blackcoffer.com/what-jobs-will-robots-take-from-humans-in-the-future/ and saved to output_texts\\blackassign0031.txt\n",
      "Data extracted from https://insights.blackcoffer.com/will-machine-replace-the-human-in-the-future-of-work/ and saved to output_texts\\blackassign0032.txt\n",
      "Data extracted from https://insights.blackcoffer.com/will-ai-replace-us-or-work-with-us/ and saved to output_texts\\blackassign0033.txt\n",
      "Data extracted from https://insights.blackcoffer.com/man-and-machines-together-machines-are-more-diligent-than-humans-blackcoffe/ and saved to output_texts\\blackassign0034.txt\n",
      "Data extracted from https://insights.blackcoffer.com/in-future-or-in-upcoming-years-humans-and-machines-are-going-to-work-together-in-every-field-of-work/ and saved to output_texts\\blackassign0035.txt\n",
      "Data extracted from https://insights.blackcoffer.com/how-neural-networks-can-be-applied-in-various-areas-in-the-future/ and saved to output_texts\\blackassign0036.txt\n",
      "Data extracted from https://insights.blackcoffer.com/how-machine-learning-will-affect-your-business/ and saved to output_texts\\blackassign0037.txt\n",
      "Data extracted from https://insights.blackcoffer.com/deep-learning-impact-on-areas-of-e-learning/ and saved to output_texts\\blackassign0038.txt\n",
      "Data extracted from https://insights.blackcoffer.com/how-to-protect-future-data-and-its-privacy-blackcoffer/ and saved to output_texts\\blackassign0039.txt\n",
      "Data extracted from https://insights.blackcoffer.com/how-machines-ai-automations-and-robo-human-are-effective-in-finance-and-banking/ and saved to output_texts\\blackassign0040.txt\n",
      "Data extracted from https://insights.blackcoffer.com/ai-human-robotics-machine-future-planet-blackcoffer-thinking-jobs-workplace/ and saved to output_texts\\blackassign0041.txt\n",
      "Data extracted from https://insights.blackcoffer.com/how-ai-will-change-the-world-blackcoffer/ and saved to output_texts\\blackassign0042.txt\n",
      "Data extracted from https://insights.blackcoffer.com/future-of-work-how-ai-has-entered-the-workplace/ and saved to output_texts\\blackassign0043.txt\n",
      "Data extracted from https://insights.blackcoffer.com/ai-tool-alexa-google-assistant-finance-banking-tool-future/ and saved to output_texts\\blackassign0044.txt\n",
      "Data extracted from https://insights.blackcoffer.com/ai-healthcare-revolution-ml-technology-algorithm-google-analytics-industrialrevolution/ and saved to output_texts\\blackassign0045.txt\n",
      "Data extracted from https://insights.blackcoffer.com/all-you-need-to-know-about-online-marketing/ and saved to output_texts\\blackassign0046.txt\n",
      "Data extracted from https://insights.blackcoffer.com/evolution-of-advertising-industry/ and saved to output_texts\\blackassign0047.txt\n",
      "Data extracted from https://insights.blackcoffer.com/how-data-analytics-can-help-your-business-respond-to-the-impact-of-covid-19/ and saved to output_texts\\blackassign0048.txt\n",
      "Data extracted from https://insights.blackcoffer.com/covid-19-environmental-impact-for-the-future/ and saved to output_texts\\blackassign0049.txt\n",
      "Data extracted from https://insights.blackcoffer.com/environmental-impact-of-the-covid-19-pandemic-lesson-for-the-future/ and saved to output_texts\\blackassign0050.txt\n",
      "Data extracted from https://insights.blackcoffer.com/how-data-analytics-and-ai-are-used-to-halt-the-covid-19-pandemic/ and saved to output_texts\\blackassign0051.txt\n"
     ]
    },
    {
     "name": "stdout",
     "output_type": "stream",
     "text": [
      "Data extracted from https://insights.blackcoffer.com/difference-between-artificial-intelligence-machine-learning-statistics-and-data-mining/ and saved to output_texts\\blackassign0052.txt\n",
      "Data extracted from https://insights.blackcoffer.com/how-python-became-the-first-choice-for-data-science/ and saved to output_texts\\blackassign0053.txt\n",
      "Data extracted from https://insights.blackcoffer.com/how-google-fit-measure-heart-and-respiratory-rates-using-a-phone/ and saved to output_texts\\blackassign0054.txt\n",
      "Data extracted from https://insights.blackcoffer.com/what-is-the-future-of-mobile-apps/ and saved to output_texts\\blackassign0055.txt\n",
      "Data extracted from https://insights.blackcoffer.com/impact-of-ai-in-health-and-medicine/ and saved to output_texts\\blackassign0056.txt\n",
      "Data extracted from https://insights.blackcoffer.com/telemedicine-what-patients-like-and-dislike-about-it/ and saved to output_texts\\blackassign0057.txt\n",
      "Data extracted from https://insights.blackcoffer.com/how-we-forecast-future-technologies/ and saved to output_texts\\blackassign0058.txt\n",
      "Data extracted from https://insights.blackcoffer.com/can-robots-tackle-late-life-loneliness/ and saved to output_texts\\blackassign0059.txt\n",
      "Data extracted from https://insights.blackcoffer.com/embedding-care-robots-into-society-socio-technical-considerations/ and saved to output_texts\\blackassign0060.txt\n",
      "Data extracted from https://insights.blackcoffer.com/management-challenges-for-future-digitalization-of-healthcare-services/ and saved to output_texts\\blackassign0061.txt\n",
      "Data extracted from https://insights.blackcoffer.com/are-we-any-closer-to-preventing-a-nuclear-holocaust/ and saved to output_texts\\blackassign0062.txt\n",
      "Data extracted from https://insights.blackcoffer.com/will-technology-eliminate-the-need-for-animal-testing-in-drug-development/ and saved to output_texts\\blackassign0063.txt\n",
      "Data extracted from https://insights.blackcoffer.com/will-we-ever-understand-the-nature-of-consciousness/ and saved to output_texts\\blackassign0064.txt\n",
      "Data extracted from https://insights.blackcoffer.com/will-we-ever-colonize-outer-space/ and saved to output_texts\\blackassign0065.txt\n",
      "Data extracted from https://insights.blackcoffer.com/what-is-the-chance-homo-sapiens-will-survive-for-the-next-500-years/ and saved to output_texts\\blackassign0066.txt\n",
      "Data extracted from https://insights.blackcoffer.com/why-does-your-business-need-a-chatbot/ and saved to output_texts\\blackassign0067.txt\n",
      "Data extracted from https://insights.blackcoffer.com/how-you-lead-a-project-or-a-team-without-any-technical-expertise/ and saved to output_texts\\blackassign0068.txt\n",
      "Data extracted from https://insights.blackcoffer.com/can-you-be-great-leader-without-technical-expertise/ and saved to output_texts\\blackassign0069.txt\n",
      "Data extracted from https://insights.blackcoffer.com/how-does-artificial-intelligence-affect-the-environment/ and saved to output_texts\\blackassign0070.txt\n",
      "Data extracted from https://insights.blackcoffer.com/how-to-overcome-your-fear-of-making-mistakes-2/ and saved to output_texts\\blackassign0071.txt\n",
      "Data extracted from https://insights.blackcoffer.com/is-perfection-the-greatest-enemy-of-productivity/ and saved to output_texts\\blackassign0072.txt\n",
      "Data extracted from https://insights.blackcoffer.com/global-financial-crisis-2008-causes-effects-and-its-solution/ and saved to output_texts\\blackassign0073.txt\n",
      "Data extracted from https://insights.blackcoffer.com/gender-diversity-and-equality-in-the-tech-industry/ and saved to output_texts\\blackassign0074.txt\n",
      "Data extracted from https://insights.blackcoffer.com/how-to-overcome-your-fear-of-making-mistakes/ and saved to output_texts\\blackassign0075.txt\n",
      "Data extracted from https://insights.blackcoffer.com/how-small-business-can-survive-the-coronavirus-crisis/ and saved to output_texts\\blackassign0076.txt\n",
      "Data extracted from https://insights.blackcoffer.com/impacts-of-covid-19-on-vegetable-vendors-and-food-stalls/ and saved to output_texts\\blackassign0077.txt\n",
      "Data extracted from https://insights.blackcoffer.com/impacts-of-covid-19-on-vegetable-vendors/ and saved to output_texts\\blackassign0078.txt\n",
      "Data extracted from https://insights.blackcoffer.com/impact-of-covid-19-pandemic-on-tourism-aviation-industries/ and saved to output_texts\\blackassign0079.txt\n",
      "Data extracted from https://insights.blackcoffer.com/impact-of-covid-19-pandemic-on-sports-events-around-the-world/ and saved to output_texts\\blackassign0080.txt\n",
      "Data extracted from https://insights.blackcoffer.com/changing-landscape-and-emerging-trends-in-the-indian-it-ites-industry/ and saved to output_texts\\blackassign0081.txt\n",
      "Data extracted from https://insights.blackcoffer.com/online-gaming-adolescent-online-gaming-effects-demotivated-depression-musculoskeletal-and-psychosomatic-symptoms/ and saved to output_texts\\blackassign0082.txt\n",
      "Data extracted from https://insights.blackcoffer.com/human-rights-outlook/ and saved to output_texts\\blackassign0083.txt\n",
      "Data extracted from https://insights.blackcoffer.com/how-voice-search-makes-your-business-a-successful-business/ and saved to output_texts\\blackassign0084.txt\n",
      "Data extracted from https://insights.blackcoffer.com/how-the-covid-19-crisis-is-redefining-jobs-and-services/ and saved to output_texts\\blackassign0085.txt\n",
      "Data extracted from https://insights.blackcoffer.com/how-to-increase-social-media-engagement-for-marketers/ and saved to output_texts\\blackassign0086.txt\n",
      "Data extracted from https://insights.blackcoffer.com/impacts-of-covid-19-on-streets-sides-food-stalls/ and saved to output_texts\\blackassign0087.txt\n",
      "Data extracted from https://insights.blackcoffer.com/coronavirus-impact-on-energy-markets-2/ and saved to output_texts\\blackassign0088.txt\n",
      "Data extracted from https://insights.blackcoffer.com/coronavirus-impact-on-the-hospitality-industry-5/ and saved to output_texts\\blackassign0089.txt\n",
      "Data extracted from https://insights.blackcoffer.com/lessons-from-the-past-some-key-learnings-relevant-to-the-coronavirus-crisis-4/ and saved to output_texts\\blackassign0090.txt\n",
      "Data extracted from https://insights.blackcoffer.com/estimating-the-impact-of-covid-19-on-the-world-of-work-2/ and saved to output_texts\\blackassign0091.txt\n",
      "Data extracted from https://insights.blackcoffer.com/estimating-the-impact-of-covid-19-on-the-world-of-work-3/ and saved to output_texts\\blackassign0092.txt\n",
      "Data extracted from https://insights.blackcoffer.com/travel-and-tourism-outlook/ and saved to output_texts\\blackassign0093.txt\n",
      "Data extracted from https://insights.blackcoffer.com/gaming-disorder-and-effects-of-gaming-on-health/ and saved to output_texts\\blackassign0094.txt\n",
      "Data extracted from https://insights.blackcoffer.com/what-is-the-repercussion-of-the-environment-due-to-the-covid-19-pandemic-situation/ and saved to output_texts\\blackassign0095.txt\n",
      "Data extracted from https://insights.blackcoffer.com/what-is-the-repercussion-of-the-environment-due-to-the-covid-19-pandemic-situation-2/ and saved to output_texts\\blackassign0096.txt\n",
      "Data extracted from https://insights.blackcoffer.com/impact-of-covid-19-pandemic-on-office-space-and-co-working-industries/ and saved to output_texts\\blackassign0097.txt\n",
      "Data extracted from https://insights.blackcoffer.com/contribution-of-handicrafts-visual-arts-literature-in-the-indian-economy/ and saved to output_texts\\blackassign0098.txt\n",
      "Data extracted from https://insights.blackcoffer.com/how-covid-19-is-impacting-payment-preferences/ and saved to output_texts\\blackassign0099.txt\n",
      "Data extracted from https://insights.blackcoffer.com/how-will-covid-19-affect-the-world-of-work-2/ and saved to output_texts\\blackassign0100.txt\n"
     ]
    }
   ],
   "source": [
    "# importing libraries\n",
    "import os\n",
    "import requests  # with this we can make http request to fetch web pages.\n",
    "from bs4 import BeautifulSoup # we uses BeautifulSoup for the Parsing html content.\n",
    "import pandas as pd\n",
    "\n",
    "# by taking url as a input and by using requests we gets the html content of the page \n",
    "def extract_article_text(url):\n",
    "    try:\n",
    "        response = requests.get(url)\n",
    "        soup = BeautifulSoup(response.text, 'html.parser') #Parses the HTML using BeautifulSoup.\n",
    "\n",
    "        # Extract title and article text (<p> tags)\n",
    "        title = soup.find('title').text.strip()\n",
    "        article_text = '\\n'.join([p.text for p in soup.find_all('p')])\n",
    "\n",
    "        return title, article_text\n",
    "    except Exception as e:\n",
    "        print(f\"Error extracting data from {url}: {e}\")\n",
    "        return None, None\n",
    "\n",
    "def main():\n",
    "    # Read the input Excel file using pandas library\n",
    "    input_file_path = 'Input.xlsx'\n",
    "    df = pd.read_excel(input_file_path)\n",
    "\n",
    "    # Create a directory to save text files\n",
    "    output_directory = 'output_texts'\n",
    "    os.makedirs(output_directory, exist_ok=True)\n",
    "\n",
    "    # Loop through the URLs in the input file\n",
    "    for index, row in df.iterrows():\n",
    "        url_id = row['URL_ID']\n",
    "        url = row['URL']\n",
    "\n",
    "        # Extract article text\n",
    "        title, article_text = extract_article_text(url)\n",
    "\n",
    "        if title and article_text:\n",
    "            # Save the extracted text to a file\n",
    "            output_file_path = os.path.join(output_directory, f'{url_id}.txt') # here we takes the usrl_id as the name of output text file\n",
    "            with open(output_file_path, 'w', encoding='utf-8') as file:\n",
    "                file.write(f'Title: {title}\\n\\n{article_text}')\n",
    "\n",
    "            print(f\"Data extracted from {url} and saved to {output_file_path}\")\n",
    "\n",
    "if __name__ == \"__main__\":\n",
    "    main()\n"
   ]
  },
  {
   "cell_type": "code",
   "execution_count": 12,
   "id": "c6ec1235",
   "metadata": {},
   "outputs": [
    {
     "name": "stderr",
     "output_type": "stream",
     "text": [
      "C:\\Users\\abhij\\AppData\\Local\\Temp\\ipykernel_6272\\2072963072.py:66: FutureWarning: The frame.append method is deprecated and will be removed from pandas in a future version. Use pandas.concat instead.\n",
      "  df_output = df_output.append({\n"
     ]
    },
    {
     "name": "stdout",
     "output_type": "stream",
     "text": [
      "Textual analysis for https://insights.blackcoffer.com/rising-it-cities-and-its-impact-on-the-economy-environment-infrastructure-and-city-life-by-the-year-2040-2/ completed.\n"
     ]
    },
    {
     "name": "stderr",
     "output_type": "stream",
     "text": [
      "C:\\Users\\abhij\\AppData\\Local\\Temp\\ipykernel_6272\\2072963072.py:66: FutureWarning: The frame.append method is deprecated and will be removed from pandas in a future version. Use pandas.concat instead.\n",
      "  df_output = df_output.append({\n"
     ]
    },
    {
     "name": "stdout",
     "output_type": "stream",
     "text": [
      "Textual analysis for https://insights.blackcoffer.com/rising-it-cities-and-their-impact-on-the-economy-environment-infrastructure-and-city-life-in-future/ completed.\n"
     ]
    },
    {
     "name": "stderr",
     "output_type": "stream",
     "text": [
      "C:\\Users\\abhij\\AppData\\Local\\Temp\\ipykernel_6272\\2072963072.py:66: FutureWarning: The frame.append method is deprecated and will be removed from pandas in a future version. Use pandas.concat instead.\n",
      "  df_output = df_output.append({\n"
     ]
    },
    {
     "name": "stdout",
     "output_type": "stream",
     "text": [
      "Textual analysis for https://insights.blackcoffer.com/internet-demands-evolution-communication-impact-and-2035s-alternative-pathways/ completed.\n"
     ]
    },
    {
     "name": "stderr",
     "output_type": "stream",
     "text": [
      "C:\\Users\\abhij\\AppData\\Local\\Temp\\ipykernel_6272\\2072963072.py:66: FutureWarning: The frame.append method is deprecated and will be removed from pandas in a future version. Use pandas.concat instead.\n",
      "  df_output = df_output.append({\n"
     ]
    },
    {
     "name": "stdout",
     "output_type": "stream",
     "text": [
      "Textual analysis for https://insights.blackcoffer.com/rise-of-cybercrime-and-its-effect-in-upcoming-future/ completed.\n"
     ]
    },
    {
     "name": "stderr",
     "output_type": "stream",
     "text": [
      "C:\\Users\\abhij\\AppData\\Local\\Temp\\ipykernel_6272\\2072963072.py:66: FutureWarning: The frame.append method is deprecated and will be removed from pandas in a future version. Use pandas.concat instead.\n",
      "  df_output = df_output.append({\n"
     ]
    },
    {
     "name": "stdout",
     "output_type": "stream",
     "text": [
      "Textual analysis for https://insights.blackcoffer.com/ott-platform-and-its-impact-on-the-entertainment-industry-in-future/ completed.\n"
     ]
    },
    {
     "name": "stderr",
     "output_type": "stream",
     "text": [
      "C:\\Users\\abhij\\AppData\\Local\\Temp\\ipykernel_6272\\2072963072.py:66: FutureWarning: The frame.append method is deprecated and will be removed from pandas in a future version. Use pandas.concat instead.\n",
      "  df_output = df_output.append({\n"
     ]
    },
    {
     "name": "stdout",
     "output_type": "stream",
     "text": [
      "Textual analysis for https://insights.blackcoffer.com/the-rise-of-the-ott-platform-and-its-impact-on-the-entertainment-industry-by-2040/ completed.\n"
     ]
    },
    {
     "name": "stderr",
     "output_type": "stream",
     "text": [
      "C:\\Users\\abhij\\AppData\\Local\\Temp\\ipykernel_6272\\2072963072.py:66: FutureWarning: The frame.append method is deprecated and will be removed from pandas in a future version. Use pandas.concat instead.\n",
      "  df_output = df_output.append({\n"
     ]
    },
    {
     "name": "stdout",
     "output_type": "stream",
     "text": [
      "Textual analysis for https://insights.blackcoffer.com/rise-of-cyber-crime-and-its-effects/ completed.\n"
     ]
    },
    {
     "name": "stderr",
     "output_type": "stream",
     "text": [
      "C:\\Users\\abhij\\AppData\\Local\\Temp\\ipykernel_6272\\2072963072.py:66: FutureWarning: The frame.append method is deprecated and will be removed from pandas in a future version. Use pandas.concat instead.\n",
      "  df_output = df_output.append({\n"
     ]
    },
    {
     "name": "stdout",
     "output_type": "stream",
     "text": [
      "Textual analysis for https://insights.blackcoffer.com/rise-of-internet-demand-and-its-impact-on-communications-and-alternatives-by-the-year-2035-2/ completed.\n"
     ]
    },
    {
     "name": "stderr",
     "output_type": "stream",
     "text": [
      "C:\\Users\\abhij\\AppData\\Local\\Temp\\ipykernel_6272\\2072963072.py:66: FutureWarning: The frame.append method is deprecated and will be removed from pandas in a future version. Use pandas.concat instead.\n",
      "  df_output = df_output.append({\n"
     ]
    },
    {
     "name": "stdout",
     "output_type": "stream",
     "text": [
      "Textual analysis for https://insights.blackcoffer.com/rise-of-cybercrime-and-its-effect-by-the-year-2040-2/ completed.\n"
     ]
    },
    {
     "name": "stderr",
     "output_type": "stream",
     "text": [
      "C:\\Users\\abhij\\AppData\\Local\\Temp\\ipykernel_6272\\2072963072.py:66: FutureWarning: The frame.append method is deprecated and will be removed from pandas in a future version. Use pandas.concat instead.\n",
      "  df_output = df_output.append({\n"
     ]
    },
    {
     "name": "stdout",
     "output_type": "stream",
     "text": [
      "Textual analysis for https://insights.blackcoffer.com/rise-of-cybercrime-and-its-effect-by-the-year-2040/ completed.\n"
     ]
    },
    {
     "name": "stderr",
     "output_type": "stream",
     "text": [
      "C:\\Users\\abhij\\AppData\\Local\\Temp\\ipykernel_6272\\2072963072.py:66: FutureWarning: The frame.append method is deprecated and will be removed from pandas in a future version. Use pandas.concat instead.\n",
      "  df_output = df_output.append({\n"
     ]
    },
    {
     "name": "stdout",
     "output_type": "stream",
     "text": [
      "Textual analysis for https://insights.blackcoffer.com/rise-of-internet-demand-and-its-impact-on-communications-and-alternatives-by-the-year-2035/ completed.\n"
     ]
    },
    {
     "name": "stderr",
     "output_type": "stream",
     "text": [
      "C:\\Users\\abhij\\AppData\\Local\\Temp\\ipykernel_6272\\2072963072.py:66: FutureWarning: The frame.append method is deprecated and will be removed from pandas in a future version. Use pandas.concat instead.\n",
      "  df_output = df_output.append({\n"
     ]
    },
    {
     "name": "stdout",
     "output_type": "stream",
     "text": [
      "Textual analysis for https://insights.blackcoffer.com/rise-of-telemedicine-and-its-impact-on-livelihood-by-2040-3-2/ completed.\n"
     ]
    },
    {
     "name": "stderr",
     "output_type": "stream",
     "text": [
      "C:\\Users\\abhij\\AppData\\Local\\Temp\\ipykernel_6272\\2072963072.py:66: FutureWarning: The frame.append method is deprecated and will be removed from pandas in a future version. Use pandas.concat instead.\n",
      "  df_output = df_output.append({\n"
     ]
    },
    {
     "name": "stdout",
     "output_type": "stream",
     "text": [
      "Textual analysis for https://insights.blackcoffer.com/rise-of-e-health-and-its-impact-on-humans-by-the-year-2030/ completed.\n"
     ]
    },
    {
     "name": "stderr",
     "output_type": "stream",
     "text": [
      "C:\\Users\\abhij\\AppData\\Local\\Temp\\ipykernel_6272\\2072963072.py:66: FutureWarning: The frame.append method is deprecated and will be removed from pandas in a future version. Use pandas.concat instead.\n",
      "  df_output = df_output.append({\n"
     ]
    },
    {
     "name": "stdout",
     "output_type": "stream",
     "text": [
      "Textual analysis for https://insights.blackcoffer.com/rise-of-e-health-and-its-imapct-on-humans-by-the-year-2030-2/ completed.\n"
     ]
    },
    {
     "name": "stderr",
     "output_type": "stream",
     "text": [
      "C:\\Users\\abhij\\AppData\\Local\\Temp\\ipykernel_6272\\2072963072.py:66: FutureWarning: The frame.append method is deprecated and will be removed from pandas in a future version. Use pandas.concat instead.\n",
      "  df_output = df_output.append({\n"
     ]
    },
    {
     "name": "stdout",
     "output_type": "stream",
     "text": [
      "Textual analysis for https://insights.blackcoffer.com/rise-of-telemedicine-and-its-impact-on-livelihood-by-2040-2/ completed.\n"
     ]
    },
    {
     "name": "stderr",
     "output_type": "stream",
     "text": [
      "C:\\Users\\abhij\\AppData\\Local\\Temp\\ipykernel_6272\\2072963072.py:66: FutureWarning: The frame.append method is deprecated and will be removed from pandas in a future version. Use pandas.concat instead.\n",
      "  df_output = df_output.append({\n"
     ]
    },
    {
     "name": "stdout",
     "output_type": "stream",
     "text": [
      "Textual analysis for https://insights.blackcoffer.com/rise-of-telemedicine-and-its-impact-on-livelihood-by-2040-2-2/ completed.\n"
     ]
    },
    {
     "name": "stderr",
     "output_type": "stream",
     "text": [
      "C:\\Users\\abhij\\AppData\\Local\\Temp\\ipykernel_6272\\2072963072.py:66: FutureWarning: The frame.append method is deprecated and will be removed from pandas in a future version. Use pandas.concat instead.\n",
      "  df_output = df_output.append({\n"
     ]
    },
    {
     "name": "stdout",
     "output_type": "stream",
     "text": [
      "Textual analysis for https://insights.blackcoffer.com/rise-of-chatbots-and-its-impact-on-customer-support-by-the-year-2040/ completed.\n"
     ]
    },
    {
     "name": "stderr",
     "output_type": "stream",
     "text": [
      "C:\\Users\\abhij\\AppData\\Local\\Temp\\ipykernel_6272\\2072963072.py:66: FutureWarning: The frame.append method is deprecated and will be removed from pandas in a future version. Use pandas.concat instead.\n",
      "  df_output = df_output.append({\n"
     ]
    },
    {
     "name": "stdout",
     "output_type": "stream",
     "text": [
      "Textual analysis for https://insights.blackcoffer.com/rise-of-e-health-and-its-imapct-on-humans-by-the-year-2030/ completed.\n"
     ]
    },
    {
     "name": "stderr",
     "output_type": "stream",
     "text": [
      "C:\\Users\\abhij\\AppData\\Local\\Temp\\ipykernel_6272\\2072963072.py:66: FutureWarning: The frame.append method is deprecated and will be removed from pandas in a future version. Use pandas.concat instead.\n",
      "  df_output = df_output.append({\n"
     ]
    },
    {
     "name": "stdout",
     "output_type": "stream",
     "text": [
      "Textual analysis for https://insights.blackcoffer.com/how-does-marketing-influence-businesses-and-consumers/ completed.\n"
     ]
    },
    {
     "name": "stderr",
     "output_type": "stream",
     "text": [
      "C:\\Users\\abhij\\AppData\\Local\\Temp\\ipykernel_6272\\2072963072.py:66: FutureWarning: The frame.append method is deprecated and will be removed from pandas in a future version. Use pandas.concat instead.\n",
      "  df_output = df_output.append({\n"
     ]
    },
    {
     "name": "stdout",
     "output_type": "stream",
     "text": [
      "Textual analysis for https://insights.blackcoffer.com/how-advertisement-increase-your-market-value/ completed.\n"
     ]
    },
    {
     "name": "stderr",
     "output_type": "stream",
     "text": [
      "C:\\Users\\abhij\\AppData\\Local\\Temp\\ipykernel_6272\\2072963072.py:66: FutureWarning: The frame.append method is deprecated and will be removed from pandas in a future version. Use pandas.concat instead.\n",
      "  df_output = df_output.append({\n"
     ]
    },
    {
     "name": "stdout",
     "output_type": "stream",
     "text": [
      "Textual analysis for https://insights.blackcoffer.com/negative-effects-of-marketing-on-society/ completed.\n"
     ]
    },
    {
     "name": "stderr",
     "output_type": "stream",
     "text": [
      "C:\\Users\\abhij\\AppData\\Local\\Temp\\ipykernel_6272\\2072963072.py:66: FutureWarning: The frame.append method is deprecated and will be removed from pandas in a future version. Use pandas.concat instead.\n",
      "  df_output = df_output.append({\n"
     ]
    },
    {
     "name": "stdout",
     "output_type": "stream",
     "text": [
      "Textual analysis for https://insights.blackcoffer.com/how-advertisement-marketing-affects-business/ completed.\n"
     ]
    },
    {
     "name": "stderr",
     "output_type": "stream",
     "text": [
      "C:\\Users\\abhij\\AppData\\Local\\Temp\\ipykernel_6272\\2072963072.py:66: FutureWarning: The frame.append method is deprecated and will be removed from pandas in a future version. Use pandas.concat instead.\n",
      "  df_output = df_output.append({\n"
     ]
    },
    {
     "name": "stdout",
     "output_type": "stream",
     "text": [
      "Textual analysis for https://insights.blackcoffer.com/rising-it-cities-will-impact-the-economy-environment-infrastructure-and-city-life-by-the-year-2035/ completed.\n"
     ]
    },
    {
     "name": "stderr",
     "output_type": "stream",
     "text": [
      "C:\\Users\\abhij\\AppData\\Local\\Temp\\ipykernel_6272\\2072963072.py:66: FutureWarning: The frame.append method is deprecated and will be removed from pandas in a future version. Use pandas.concat instead.\n",
      "  df_output = df_output.append({\n"
     ]
    },
    {
     "name": "stdout",
     "output_type": "stream",
     "text": [
      "Textual analysis for https://insights.blackcoffer.com/rise-of-ott-platform-and-its-impact-on-entertainment-industry-by-the-year-2030/ completed.\n"
     ]
    },
    {
     "name": "stderr",
     "output_type": "stream",
     "text": [
      "C:\\Users\\abhij\\AppData\\Local\\Temp\\ipykernel_6272\\2072963072.py:66: FutureWarning: The frame.append method is deprecated and will be removed from pandas in a future version. Use pandas.concat instead.\n",
      "  df_output = df_output.append({\n"
     ]
    },
    {
     "name": "stdout",
     "output_type": "stream",
     "text": [
      "Textual analysis for https://insights.blackcoffer.com/rise-of-electric-vehicles-and-its-impact-on-livelihood-by-2040/ completed.\n"
     ]
    },
    {
     "name": "stderr",
     "output_type": "stream",
     "text": [
      "C:\\Users\\abhij\\AppData\\Local\\Temp\\ipykernel_6272\\2072963072.py:66: FutureWarning: The frame.append method is deprecated and will be removed from pandas in a future version. Use pandas.concat instead.\n",
      "  df_output = df_output.append({\n"
     ]
    },
    {
     "name": "stdout",
     "output_type": "stream",
     "text": [
      "Textual analysis for https://insights.blackcoffer.com/rise-of-electric-vehicle-and-its-impact-on-livelihood-by-the-year-2040/ completed.\n"
     ]
    },
    {
     "name": "stderr",
     "output_type": "stream",
     "text": [
      "C:\\Users\\abhij\\AppData\\Local\\Temp\\ipykernel_6272\\2072963072.py:66: FutureWarning: The frame.append method is deprecated and will be removed from pandas in a future version. Use pandas.concat instead.\n",
      "  df_output = df_output.append({\n"
     ]
    },
    {
     "name": "stdout",
     "output_type": "stream",
     "text": [
      "Textual analysis for https://insights.blackcoffer.com/oil-prices-by-the-year-2040-and-how-it-will-impact-the-world-economy/ completed.\n"
     ]
    },
    {
     "name": "stderr",
     "output_type": "stream",
     "text": [
      "C:\\Users\\abhij\\AppData\\Local\\Temp\\ipykernel_6272\\2072963072.py:66: FutureWarning: The frame.append method is deprecated and will be removed from pandas in a future version. Use pandas.concat instead.\n",
      "  df_output = df_output.append({\n"
     ]
    },
    {
     "name": "stdout",
     "output_type": "stream",
     "text": [
      "Textual analysis for https://insights.blackcoffer.com/an-outlook-of-healthcare-by-the-year-2040-and-how-it-will-impact-human-lives/ completed.\n"
     ]
    },
    {
     "name": "stderr",
     "output_type": "stream",
     "text": [
      "C:\\Users\\abhij\\AppData\\Local\\Temp\\ipykernel_6272\\2072963072.py:66: FutureWarning: The frame.append method is deprecated and will be removed from pandas in a future version. Use pandas.concat instead.\n",
      "  df_output = df_output.append({\n"
     ]
    },
    {
     "name": "stdout",
     "output_type": "stream",
     "text": [
      "Textual analysis for https://insights.blackcoffer.com/ai-in-healthcare-to-improve-patient-outcomes/ completed.\n"
     ]
    },
    {
     "name": "stderr",
     "output_type": "stream",
     "text": [
      "C:\\Users\\abhij\\AppData\\Local\\Temp\\ipykernel_6272\\2072963072.py:66: FutureWarning: The frame.append method is deprecated and will be removed from pandas in a future version. Use pandas.concat instead.\n",
      "  df_output = df_output.append({\n"
     ]
    },
    {
     "name": "stdout",
     "output_type": "stream",
     "text": [
      "Textual analysis for https://insights.blackcoffer.com/what-if-the-creation-is-taking-over-the-creator/ completed.\n"
     ]
    },
    {
     "name": "stderr",
     "output_type": "stream",
     "text": [
      "C:\\Users\\abhij\\AppData\\Local\\Temp\\ipykernel_6272\\2072963072.py:66: FutureWarning: The frame.append method is deprecated and will be removed from pandas in a future version. Use pandas.concat instead.\n",
      "  df_output = df_output.append({\n"
     ]
    },
    {
     "name": "stdout",
     "output_type": "stream",
     "text": [
      "Textual analysis for https://insights.blackcoffer.com/what-jobs-will-robots-take-from-humans-in-the-future/ completed.\n"
     ]
    },
    {
     "name": "stderr",
     "output_type": "stream",
     "text": [
      "C:\\Users\\abhij\\AppData\\Local\\Temp\\ipykernel_6272\\2072963072.py:66: FutureWarning: The frame.append method is deprecated and will be removed from pandas in a future version. Use pandas.concat instead.\n",
      "  df_output = df_output.append({\n"
     ]
    },
    {
     "name": "stdout",
     "output_type": "stream",
     "text": [
      "Textual analysis for https://insights.blackcoffer.com/will-machine-replace-the-human-in-the-future-of-work/ completed.\n"
     ]
    },
    {
     "name": "stderr",
     "output_type": "stream",
     "text": [
      "C:\\Users\\abhij\\AppData\\Local\\Temp\\ipykernel_6272\\2072963072.py:66: FutureWarning: The frame.append method is deprecated and will be removed from pandas in a future version. Use pandas.concat instead.\n",
      "  df_output = df_output.append({\n"
     ]
    },
    {
     "name": "stdout",
     "output_type": "stream",
     "text": [
      "Textual analysis for https://insights.blackcoffer.com/will-ai-replace-us-or-work-with-us/ completed.\n"
     ]
    },
    {
     "name": "stderr",
     "output_type": "stream",
     "text": [
      "C:\\Users\\abhij\\AppData\\Local\\Temp\\ipykernel_6272\\2072963072.py:66: FutureWarning: The frame.append method is deprecated and will be removed from pandas in a future version. Use pandas.concat instead.\n",
      "  df_output = df_output.append({\n"
     ]
    },
    {
     "name": "stdout",
     "output_type": "stream",
     "text": [
      "Textual analysis for https://insights.blackcoffer.com/man-and-machines-together-machines-are-more-diligent-than-humans-blackcoffe/ completed.\n"
     ]
    },
    {
     "name": "stderr",
     "output_type": "stream",
     "text": [
      "C:\\Users\\abhij\\AppData\\Local\\Temp\\ipykernel_6272\\2072963072.py:66: FutureWarning: The frame.append method is deprecated and will be removed from pandas in a future version. Use pandas.concat instead.\n",
      "  df_output = df_output.append({\n"
     ]
    },
    {
     "name": "stdout",
     "output_type": "stream",
     "text": [
      "Textual analysis for https://insights.blackcoffer.com/in-future-or-in-upcoming-years-humans-and-machines-are-going-to-work-together-in-every-field-of-work/ completed.\n"
     ]
    },
    {
     "name": "stderr",
     "output_type": "stream",
     "text": [
      "C:\\Users\\abhij\\AppData\\Local\\Temp\\ipykernel_6272\\2072963072.py:66: FutureWarning: The frame.append method is deprecated and will be removed from pandas in a future version. Use pandas.concat instead.\n",
      "  df_output = df_output.append({\n"
     ]
    },
    {
     "name": "stdout",
     "output_type": "stream",
     "text": [
      "Textual analysis for https://insights.blackcoffer.com/how-neural-networks-can-be-applied-in-various-areas-in-the-future/ completed.\n"
     ]
    },
    {
     "name": "stderr",
     "output_type": "stream",
     "text": [
      "C:\\Users\\abhij\\AppData\\Local\\Temp\\ipykernel_6272\\2072963072.py:66: FutureWarning: The frame.append method is deprecated and will be removed from pandas in a future version. Use pandas.concat instead.\n",
      "  df_output = df_output.append({\n"
     ]
    },
    {
     "name": "stdout",
     "output_type": "stream",
     "text": [
      "Textual analysis for https://insights.blackcoffer.com/how-machine-learning-will-affect-your-business/ completed.\n"
     ]
    },
    {
     "name": "stderr",
     "output_type": "stream",
     "text": [
      "C:\\Users\\abhij\\AppData\\Local\\Temp\\ipykernel_6272\\2072963072.py:66: FutureWarning: The frame.append method is deprecated and will be removed from pandas in a future version. Use pandas.concat instead.\n",
      "  df_output = df_output.append({\n"
     ]
    },
    {
     "name": "stdout",
     "output_type": "stream",
     "text": [
      "Textual analysis for https://insights.blackcoffer.com/deep-learning-impact-on-areas-of-e-learning/ completed.\n"
     ]
    },
    {
     "name": "stderr",
     "output_type": "stream",
     "text": [
      "C:\\Users\\abhij\\AppData\\Local\\Temp\\ipykernel_6272\\2072963072.py:66: FutureWarning: The frame.append method is deprecated and will be removed from pandas in a future version. Use pandas.concat instead.\n",
      "  df_output = df_output.append({\n"
     ]
    },
    {
     "name": "stdout",
     "output_type": "stream",
     "text": [
      "Textual analysis for https://insights.blackcoffer.com/how-to-protect-future-data-and-its-privacy-blackcoffer/ completed.\n"
     ]
    },
    {
     "name": "stderr",
     "output_type": "stream",
     "text": [
      "C:\\Users\\abhij\\AppData\\Local\\Temp\\ipykernel_6272\\2072963072.py:66: FutureWarning: The frame.append method is deprecated and will be removed from pandas in a future version. Use pandas.concat instead.\n",
      "  df_output = df_output.append({\n"
     ]
    },
    {
     "name": "stdout",
     "output_type": "stream",
     "text": [
      "Textual analysis for https://insights.blackcoffer.com/how-machines-ai-automations-and-robo-human-are-effective-in-finance-and-banking/ completed.\n"
     ]
    },
    {
     "name": "stderr",
     "output_type": "stream",
     "text": [
      "C:\\Users\\abhij\\AppData\\Local\\Temp\\ipykernel_6272\\2072963072.py:66: FutureWarning: The frame.append method is deprecated and will be removed from pandas in a future version. Use pandas.concat instead.\n",
      "  df_output = df_output.append({\n"
     ]
    },
    {
     "name": "stdout",
     "output_type": "stream",
     "text": [
      "Textual analysis for https://insights.blackcoffer.com/ai-human-robotics-machine-future-planet-blackcoffer-thinking-jobs-workplace/ completed.\n"
     ]
    },
    {
     "name": "stderr",
     "output_type": "stream",
     "text": [
      "C:\\Users\\abhij\\AppData\\Local\\Temp\\ipykernel_6272\\2072963072.py:66: FutureWarning: The frame.append method is deprecated and will be removed from pandas in a future version. Use pandas.concat instead.\n",
      "  df_output = df_output.append({\n"
     ]
    },
    {
     "name": "stdout",
     "output_type": "stream",
     "text": [
      "Textual analysis for https://insights.blackcoffer.com/how-ai-will-change-the-world-blackcoffer/ completed.\n"
     ]
    },
    {
     "name": "stderr",
     "output_type": "stream",
     "text": [
      "C:\\Users\\abhij\\AppData\\Local\\Temp\\ipykernel_6272\\2072963072.py:66: FutureWarning: The frame.append method is deprecated and will be removed from pandas in a future version. Use pandas.concat instead.\n",
      "  df_output = df_output.append({\n"
     ]
    },
    {
     "name": "stdout",
     "output_type": "stream",
     "text": [
      "Textual analysis for https://insights.blackcoffer.com/future-of-work-how-ai-has-entered-the-workplace/ completed.\n"
     ]
    },
    {
     "name": "stderr",
     "output_type": "stream",
     "text": [
      "C:\\Users\\abhij\\AppData\\Local\\Temp\\ipykernel_6272\\2072963072.py:66: FutureWarning: The frame.append method is deprecated and will be removed from pandas in a future version. Use pandas.concat instead.\n",
      "  df_output = df_output.append({\n"
     ]
    },
    {
     "name": "stdout",
     "output_type": "stream",
     "text": [
      "Textual analysis for https://insights.blackcoffer.com/ai-tool-alexa-google-assistant-finance-banking-tool-future/ completed.\n"
     ]
    },
    {
     "name": "stderr",
     "output_type": "stream",
     "text": [
      "C:\\Users\\abhij\\AppData\\Local\\Temp\\ipykernel_6272\\2072963072.py:66: FutureWarning: The frame.append method is deprecated and will be removed from pandas in a future version. Use pandas.concat instead.\n",
      "  df_output = df_output.append({\n"
     ]
    },
    {
     "name": "stdout",
     "output_type": "stream",
     "text": [
      "Textual analysis for https://insights.blackcoffer.com/ai-healthcare-revolution-ml-technology-algorithm-google-analytics-industrialrevolution/ completed.\n"
     ]
    },
    {
     "name": "stderr",
     "output_type": "stream",
     "text": [
      "C:\\Users\\abhij\\AppData\\Local\\Temp\\ipykernel_6272\\2072963072.py:66: FutureWarning: The frame.append method is deprecated and will be removed from pandas in a future version. Use pandas.concat instead.\n",
      "  df_output = df_output.append({\n"
     ]
    },
    {
     "name": "stdout",
     "output_type": "stream",
     "text": [
      "Textual analysis for https://insights.blackcoffer.com/all-you-need-to-know-about-online-marketing/ completed.\n"
     ]
    },
    {
     "name": "stderr",
     "output_type": "stream",
     "text": [
      "C:\\Users\\abhij\\AppData\\Local\\Temp\\ipykernel_6272\\2072963072.py:66: FutureWarning: The frame.append method is deprecated and will be removed from pandas in a future version. Use pandas.concat instead.\n",
      "  df_output = df_output.append({\n"
     ]
    },
    {
     "name": "stdout",
     "output_type": "stream",
     "text": [
      "Textual analysis for https://insights.blackcoffer.com/evolution-of-advertising-industry/ completed.\n"
     ]
    },
    {
     "name": "stderr",
     "output_type": "stream",
     "text": [
      "C:\\Users\\abhij\\AppData\\Local\\Temp\\ipykernel_6272\\2072963072.py:66: FutureWarning: The frame.append method is deprecated and will be removed from pandas in a future version. Use pandas.concat instead.\n",
      "  df_output = df_output.append({\n"
     ]
    },
    {
     "name": "stdout",
     "output_type": "stream",
     "text": [
      "Textual analysis for https://insights.blackcoffer.com/how-data-analytics-can-help-your-business-respond-to-the-impact-of-covid-19/ completed.\n"
     ]
    },
    {
     "name": "stderr",
     "output_type": "stream",
     "text": [
      "C:\\Users\\abhij\\AppData\\Local\\Temp\\ipykernel_6272\\2072963072.py:66: FutureWarning: The frame.append method is deprecated and will be removed from pandas in a future version. Use pandas.concat instead.\n",
      "  df_output = df_output.append({\n"
     ]
    },
    {
     "name": "stdout",
     "output_type": "stream",
     "text": [
      "Textual analysis for https://insights.blackcoffer.com/covid-19-environmental-impact-for-the-future/ completed.\n"
     ]
    },
    {
     "name": "stderr",
     "output_type": "stream",
     "text": [
      "C:\\Users\\abhij\\AppData\\Local\\Temp\\ipykernel_6272\\2072963072.py:66: FutureWarning: The frame.append method is deprecated and will be removed from pandas in a future version. Use pandas.concat instead.\n",
      "  df_output = df_output.append({\n"
     ]
    },
    {
     "name": "stdout",
     "output_type": "stream",
     "text": [
      "Textual analysis for https://insights.blackcoffer.com/environmental-impact-of-the-covid-19-pandemic-lesson-for-the-future/ completed.\n"
     ]
    },
    {
     "name": "stderr",
     "output_type": "stream",
     "text": [
      "C:\\Users\\abhij\\AppData\\Local\\Temp\\ipykernel_6272\\2072963072.py:66: FutureWarning: The frame.append method is deprecated and will be removed from pandas in a future version. Use pandas.concat instead.\n",
      "  df_output = df_output.append({\n"
     ]
    },
    {
     "name": "stdout",
     "output_type": "stream",
     "text": [
      "Textual analysis for https://insights.blackcoffer.com/how-data-analytics-and-ai-are-used-to-halt-the-covid-19-pandemic/ completed.\n"
     ]
    },
    {
     "name": "stderr",
     "output_type": "stream",
     "text": [
      "C:\\Users\\abhij\\AppData\\Local\\Temp\\ipykernel_6272\\2072963072.py:66: FutureWarning: The frame.append method is deprecated and will be removed from pandas in a future version. Use pandas.concat instead.\n",
      "  df_output = df_output.append({\n"
     ]
    },
    {
     "name": "stdout",
     "output_type": "stream",
     "text": [
      "Textual analysis for https://insights.blackcoffer.com/difference-between-artificial-intelligence-machine-learning-statistics-and-data-mining/ completed.\n"
     ]
    },
    {
     "name": "stderr",
     "output_type": "stream",
     "text": [
      "C:\\Users\\abhij\\AppData\\Local\\Temp\\ipykernel_6272\\2072963072.py:66: FutureWarning: The frame.append method is deprecated and will be removed from pandas in a future version. Use pandas.concat instead.\n",
      "  df_output = df_output.append({\n"
     ]
    },
    {
     "name": "stdout",
     "output_type": "stream",
     "text": [
      "Textual analysis for https://insights.blackcoffer.com/how-python-became-the-first-choice-for-data-science/ completed.\n"
     ]
    },
    {
     "name": "stderr",
     "output_type": "stream",
     "text": [
      "C:\\Users\\abhij\\AppData\\Local\\Temp\\ipykernel_6272\\2072963072.py:66: FutureWarning: The frame.append method is deprecated and will be removed from pandas in a future version. Use pandas.concat instead.\n",
      "  df_output = df_output.append({\n"
     ]
    },
    {
     "name": "stdout",
     "output_type": "stream",
     "text": [
      "Textual analysis for https://insights.blackcoffer.com/how-google-fit-measure-heart-and-respiratory-rates-using-a-phone/ completed.\n"
     ]
    },
    {
     "name": "stderr",
     "output_type": "stream",
     "text": [
      "C:\\Users\\abhij\\AppData\\Local\\Temp\\ipykernel_6272\\2072963072.py:66: FutureWarning: The frame.append method is deprecated and will be removed from pandas in a future version. Use pandas.concat instead.\n",
      "  df_output = df_output.append({\n"
     ]
    },
    {
     "name": "stdout",
     "output_type": "stream",
     "text": [
      "Textual analysis for https://insights.blackcoffer.com/what-is-the-future-of-mobile-apps/ completed.\n"
     ]
    },
    {
     "name": "stderr",
     "output_type": "stream",
     "text": [
      "C:\\Users\\abhij\\AppData\\Local\\Temp\\ipykernel_6272\\2072963072.py:66: FutureWarning: The frame.append method is deprecated and will be removed from pandas in a future version. Use pandas.concat instead.\n",
      "  df_output = df_output.append({\n"
     ]
    },
    {
     "name": "stdout",
     "output_type": "stream",
     "text": [
      "Textual analysis for https://insights.blackcoffer.com/impact-of-ai-in-health-and-medicine/ completed.\n"
     ]
    },
    {
     "name": "stderr",
     "output_type": "stream",
     "text": [
      "C:\\Users\\abhij\\AppData\\Local\\Temp\\ipykernel_6272\\2072963072.py:66: FutureWarning: The frame.append method is deprecated and will be removed from pandas in a future version. Use pandas.concat instead.\n",
      "  df_output = df_output.append({\n"
     ]
    },
    {
     "name": "stdout",
     "output_type": "stream",
     "text": [
      "Textual analysis for https://insights.blackcoffer.com/telemedicine-what-patients-like-and-dislike-about-it/ completed.\n"
     ]
    },
    {
     "name": "stderr",
     "output_type": "stream",
     "text": [
      "C:\\Users\\abhij\\AppData\\Local\\Temp\\ipykernel_6272\\2072963072.py:66: FutureWarning: The frame.append method is deprecated and will be removed from pandas in a future version. Use pandas.concat instead.\n",
      "  df_output = df_output.append({\n"
     ]
    },
    {
     "name": "stdout",
     "output_type": "stream",
     "text": [
      "Textual analysis for https://insights.blackcoffer.com/how-we-forecast-future-technologies/ completed.\n"
     ]
    },
    {
     "name": "stderr",
     "output_type": "stream",
     "text": [
      "C:\\Users\\abhij\\AppData\\Local\\Temp\\ipykernel_6272\\2072963072.py:66: FutureWarning: The frame.append method is deprecated and will be removed from pandas in a future version. Use pandas.concat instead.\n",
      "  df_output = df_output.append({\n"
     ]
    },
    {
     "name": "stdout",
     "output_type": "stream",
     "text": [
      "Textual analysis for https://insights.blackcoffer.com/can-robots-tackle-late-life-loneliness/ completed.\n"
     ]
    },
    {
     "name": "stderr",
     "output_type": "stream",
     "text": [
      "C:\\Users\\abhij\\AppData\\Local\\Temp\\ipykernel_6272\\2072963072.py:66: FutureWarning: The frame.append method is deprecated and will be removed from pandas in a future version. Use pandas.concat instead.\n",
      "  df_output = df_output.append({\n"
     ]
    },
    {
     "name": "stdout",
     "output_type": "stream",
     "text": [
      "Textual analysis for https://insights.blackcoffer.com/embedding-care-robots-into-society-socio-technical-considerations/ completed.\n"
     ]
    },
    {
     "name": "stderr",
     "output_type": "stream",
     "text": [
      "C:\\Users\\abhij\\AppData\\Local\\Temp\\ipykernel_6272\\2072963072.py:66: FutureWarning: The frame.append method is deprecated and will be removed from pandas in a future version. Use pandas.concat instead.\n",
      "  df_output = df_output.append({\n"
     ]
    },
    {
     "name": "stdout",
     "output_type": "stream",
     "text": [
      "Textual analysis for https://insights.blackcoffer.com/management-challenges-for-future-digitalization-of-healthcare-services/ completed.\n"
     ]
    },
    {
     "name": "stderr",
     "output_type": "stream",
     "text": [
      "C:\\Users\\abhij\\AppData\\Local\\Temp\\ipykernel_6272\\2072963072.py:66: FutureWarning: The frame.append method is deprecated and will be removed from pandas in a future version. Use pandas.concat instead.\n",
      "  df_output = df_output.append({\n"
     ]
    },
    {
     "name": "stdout",
     "output_type": "stream",
     "text": [
      "Textual analysis for https://insights.blackcoffer.com/are-we-any-closer-to-preventing-a-nuclear-holocaust/ completed.\n"
     ]
    },
    {
     "name": "stderr",
     "output_type": "stream",
     "text": [
      "C:\\Users\\abhij\\AppData\\Local\\Temp\\ipykernel_6272\\2072963072.py:66: FutureWarning: The frame.append method is deprecated and will be removed from pandas in a future version. Use pandas.concat instead.\n",
      "  df_output = df_output.append({\n"
     ]
    },
    {
     "name": "stdout",
     "output_type": "stream",
     "text": [
      "Textual analysis for https://insights.blackcoffer.com/will-technology-eliminate-the-need-for-animal-testing-in-drug-development/ completed.\n"
     ]
    },
    {
     "name": "stderr",
     "output_type": "stream",
     "text": [
      "C:\\Users\\abhij\\AppData\\Local\\Temp\\ipykernel_6272\\2072963072.py:66: FutureWarning: The frame.append method is deprecated and will be removed from pandas in a future version. Use pandas.concat instead.\n",
      "  df_output = df_output.append({\n"
     ]
    },
    {
     "name": "stdout",
     "output_type": "stream",
     "text": [
      "Textual analysis for https://insights.blackcoffer.com/will-we-ever-understand-the-nature-of-consciousness/ completed.\n"
     ]
    },
    {
     "name": "stderr",
     "output_type": "stream",
     "text": [
      "C:\\Users\\abhij\\AppData\\Local\\Temp\\ipykernel_6272\\2072963072.py:66: FutureWarning: The frame.append method is deprecated and will be removed from pandas in a future version. Use pandas.concat instead.\n",
      "  df_output = df_output.append({\n"
     ]
    },
    {
     "name": "stdout",
     "output_type": "stream",
     "text": [
      "Textual analysis for https://insights.blackcoffer.com/will-we-ever-colonize-outer-space/ completed.\n"
     ]
    },
    {
     "name": "stderr",
     "output_type": "stream",
     "text": [
      "C:\\Users\\abhij\\AppData\\Local\\Temp\\ipykernel_6272\\2072963072.py:66: FutureWarning: The frame.append method is deprecated and will be removed from pandas in a future version. Use pandas.concat instead.\n",
      "  df_output = df_output.append({\n"
     ]
    },
    {
     "name": "stdout",
     "output_type": "stream",
     "text": [
      "Textual analysis for https://insights.blackcoffer.com/what-is-the-chance-homo-sapiens-will-survive-for-the-next-500-years/ completed.\n"
     ]
    },
    {
     "name": "stderr",
     "output_type": "stream",
     "text": [
      "C:\\Users\\abhij\\AppData\\Local\\Temp\\ipykernel_6272\\2072963072.py:66: FutureWarning: The frame.append method is deprecated and will be removed from pandas in a future version. Use pandas.concat instead.\n",
      "  df_output = df_output.append({\n"
     ]
    },
    {
     "name": "stdout",
     "output_type": "stream",
     "text": [
      "Textual analysis for https://insights.blackcoffer.com/why-does-your-business-need-a-chatbot/ completed.\n"
     ]
    },
    {
     "name": "stderr",
     "output_type": "stream",
     "text": [
      "C:\\Users\\abhij\\AppData\\Local\\Temp\\ipykernel_6272\\2072963072.py:66: FutureWarning: The frame.append method is deprecated and will be removed from pandas in a future version. Use pandas.concat instead.\n",
      "  df_output = df_output.append({\n"
     ]
    },
    {
     "name": "stdout",
     "output_type": "stream",
     "text": [
      "Textual analysis for https://insights.blackcoffer.com/how-you-lead-a-project-or-a-team-without-any-technical-expertise/ completed.\n"
     ]
    },
    {
     "name": "stderr",
     "output_type": "stream",
     "text": [
      "C:\\Users\\abhij\\AppData\\Local\\Temp\\ipykernel_6272\\2072963072.py:66: FutureWarning: The frame.append method is deprecated and will be removed from pandas in a future version. Use pandas.concat instead.\n",
      "  df_output = df_output.append({\n"
     ]
    },
    {
     "name": "stdout",
     "output_type": "stream",
     "text": [
      "Textual analysis for https://insights.blackcoffer.com/can-you-be-great-leader-without-technical-expertise/ completed.\n"
     ]
    },
    {
     "name": "stderr",
     "output_type": "stream",
     "text": [
      "C:\\Users\\abhij\\AppData\\Local\\Temp\\ipykernel_6272\\2072963072.py:66: FutureWarning: The frame.append method is deprecated and will be removed from pandas in a future version. Use pandas.concat instead.\n",
      "  df_output = df_output.append({\n"
     ]
    },
    {
     "name": "stdout",
     "output_type": "stream",
     "text": [
      "Textual analysis for https://insights.blackcoffer.com/how-does-artificial-intelligence-affect-the-environment/ completed.\n"
     ]
    },
    {
     "name": "stderr",
     "output_type": "stream",
     "text": [
      "C:\\Users\\abhij\\AppData\\Local\\Temp\\ipykernel_6272\\2072963072.py:66: FutureWarning: The frame.append method is deprecated and will be removed from pandas in a future version. Use pandas.concat instead.\n",
      "  df_output = df_output.append({\n"
     ]
    },
    {
     "name": "stdout",
     "output_type": "stream",
     "text": [
      "Textual analysis for https://insights.blackcoffer.com/how-to-overcome-your-fear-of-making-mistakes-2/ completed.\n"
     ]
    },
    {
     "name": "stderr",
     "output_type": "stream",
     "text": [
      "C:\\Users\\abhij\\AppData\\Local\\Temp\\ipykernel_6272\\2072963072.py:66: FutureWarning: The frame.append method is deprecated and will be removed from pandas in a future version. Use pandas.concat instead.\n",
      "  df_output = df_output.append({\n"
     ]
    },
    {
     "name": "stdout",
     "output_type": "stream",
     "text": [
      "Textual analysis for https://insights.blackcoffer.com/is-perfection-the-greatest-enemy-of-productivity/ completed.\n"
     ]
    },
    {
     "name": "stderr",
     "output_type": "stream",
     "text": [
      "C:\\Users\\abhij\\AppData\\Local\\Temp\\ipykernel_6272\\2072963072.py:66: FutureWarning: The frame.append method is deprecated and will be removed from pandas in a future version. Use pandas.concat instead.\n",
      "  df_output = df_output.append({\n"
     ]
    },
    {
     "name": "stdout",
     "output_type": "stream",
     "text": [
      "Textual analysis for https://insights.blackcoffer.com/global-financial-crisis-2008-causes-effects-and-its-solution/ completed.\n"
     ]
    },
    {
     "name": "stderr",
     "output_type": "stream",
     "text": [
      "C:\\Users\\abhij\\AppData\\Local\\Temp\\ipykernel_6272\\2072963072.py:66: FutureWarning: The frame.append method is deprecated and will be removed from pandas in a future version. Use pandas.concat instead.\n",
      "  df_output = df_output.append({\n"
     ]
    },
    {
     "name": "stdout",
     "output_type": "stream",
     "text": [
      "Textual analysis for https://insights.blackcoffer.com/gender-diversity-and-equality-in-the-tech-industry/ completed.\n"
     ]
    },
    {
     "name": "stderr",
     "output_type": "stream",
     "text": [
      "C:\\Users\\abhij\\AppData\\Local\\Temp\\ipykernel_6272\\2072963072.py:66: FutureWarning: The frame.append method is deprecated and will be removed from pandas in a future version. Use pandas.concat instead.\n",
      "  df_output = df_output.append({\n"
     ]
    },
    {
     "name": "stdout",
     "output_type": "stream",
     "text": [
      "Textual analysis for https://insights.blackcoffer.com/how-to-overcome-your-fear-of-making-mistakes/ completed.\n"
     ]
    },
    {
     "name": "stderr",
     "output_type": "stream",
     "text": [
      "C:\\Users\\abhij\\AppData\\Local\\Temp\\ipykernel_6272\\2072963072.py:66: FutureWarning: The frame.append method is deprecated and will be removed from pandas in a future version. Use pandas.concat instead.\n",
      "  df_output = df_output.append({\n"
     ]
    },
    {
     "name": "stdout",
     "output_type": "stream",
     "text": [
      "Textual analysis for https://insights.blackcoffer.com/how-small-business-can-survive-the-coronavirus-crisis/ completed.\n"
     ]
    },
    {
     "name": "stderr",
     "output_type": "stream",
     "text": [
      "C:\\Users\\abhij\\AppData\\Local\\Temp\\ipykernel_6272\\2072963072.py:66: FutureWarning: The frame.append method is deprecated and will be removed from pandas in a future version. Use pandas.concat instead.\n",
      "  df_output = df_output.append({\n"
     ]
    },
    {
     "name": "stdout",
     "output_type": "stream",
     "text": [
      "Textual analysis for https://insights.blackcoffer.com/impacts-of-covid-19-on-vegetable-vendors-and-food-stalls/ completed.\n"
     ]
    },
    {
     "name": "stderr",
     "output_type": "stream",
     "text": [
      "C:\\Users\\abhij\\AppData\\Local\\Temp\\ipykernel_6272\\2072963072.py:66: FutureWarning: The frame.append method is deprecated and will be removed from pandas in a future version. Use pandas.concat instead.\n",
      "  df_output = df_output.append({\n"
     ]
    },
    {
     "name": "stdout",
     "output_type": "stream",
     "text": [
      "Textual analysis for https://insights.blackcoffer.com/impacts-of-covid-19-on-vegetable-vendors/ completed.\n"
     ]
    },
    {
     "name": "stderr",
     "output_type": "stream",
     "text": [
      "C:\\Users\\abhij\\AppData\\Local\\Temp\\ipykernel_6272\\2072963072.py:66: FutureWarning: The frame.append method is deprecated and will be removed from pandas in a future version. Use pandas.concat instead.\n",
      "  df_output = df_output.append({\n"
     ]
    },
    {
     "name": "stdout",
     "output_type": "stream",
     "text": [
      "Textual analysis for https://insights.blackcoffer.com/impact-of-covid-19-pandemic-on-tourism-aviation-industries/ completed.\n"
     ]
    },
    {
     "name": "stderr",
     "output_type": "stream",
     "text": [
      "C:\\Users\\abhij\\AppData\\Local\\Temp\\ipykernel_6272\\2072963072.py:66: FutureWarning: The frame.append method is deprecated and will be removed from pandas in a future version. Use pandas.concat instead.\n",
      "  df_output = df_output.append({\n"
     ]
    },
    {
     "name": "stdout",
     "output_type": "stream",
     "text": [
      "Textual analysis for https://insights.blackcoffer.com/impact-of-covid-19-pandemic-on-sports-events-around-the-world/ completed.\n"
     ]
    },
    {
     "name": "stderr",
     "output_type": "stream",
     "text": [
      "C:\\Users\\abhij\\AppData\\Local\\Temp\\ipykernel_6272\\2072963072.py:66: FutureWarning: The frame.append method is deprecated and will be removed from pandas in a future version. Use pandas.concat instead.\n",
      "  df_output = df_output.append({\n"
     ]
    },
    {
     "name": "stdout",
     "output_type": "stream",
     "text": [
      "Textual analysis for https://insights.blackcoffer.com/changing-landscape-and-emerging-trends-in-the-indian-it-ites-industry/ completed.\n"
     ]
    },
    {
     "name": "stderr",
     "output_type": "stream",
     "text": [
      "C:\\Users\\abhij\\AppData\\Local\\Temp\\ipykernel_6272\\2072963072.py:66: FutureWarning: The frame.append method is deprecated and will be removed from pandas in a future version. Use pandas.concat instead.\n",
      "  df_output = df_output.append({\n"
     ]
    },
    {
     "name": "stdout",
     "output_type": "stream",
     "text": [
      "Textual analysis for https://insights.blackcoffer.com/online-gaming-adolescent-online-gaming-effects-demotivated-depression-musculoskeletal-and-psychosomatic-symptoms/ completed.\n"
     ]
    },
    {
     "name": "stderr",
     "output_type": "stream",
     "text": [
      "C:\\Users\\abhij\\AppData\\Local\\Temp\\ipykernel_6272\\2072963072.py:66: FutureWarning: The frame.append method is deprecated and will be removed from pandas in a future version. Use pandas.concat instead.\n",
      "  df_output = df_output.append({\n"
     ]
    },
    {
     "name": "stdout",
     "output_type": "stream",
     "text": [
      "Textual analysis for https://insights.blackcoffer.com/human-rights-outlook/ completed.\n"
     ]
    },
    {
     "name": "stderr",
     "output_type": "stream",
     "text": [
      "C:\\Users\\abhij\\AppData\\Local\\Temp\\ipykernel_6272\\2072963072.py:66: FutureWarning: The frame.append method is deprecated and will be removed from pandas in a future version. Use pandas.concat instead.\n",
      "  df_output = df_output.append({\n"
     ]
    },
    {
     "name": "stdout",
     "output_type": "stream",
     "text": [
      "Textual analysis for https://insights.blackcoffer.com/how-voice-search-makes-your-business-a-successful-business/ completed.\n"
     ]
    },
    {
     "name": "stderr",
     "output_type": "stream",
     "text": [
      "C:\\Users\\abhij\\AppData\\Local\\Temp\\ipykernel_6272\\2072963072.py:66: FutureWarning: The frame.append method is deprecated and will be removed from pandas in a future version. Use pandas.concat instead.\n",
      "  df_output = df_output.append({\n"
     ]
    },
    {
     "name": "stdout",
     "output_type": "stream",
     "text": [
      "Textual analysis for https://insights.blackcoffer.com/how-the-covid-19-crisis-is-redefining-jobs-and-services/ completed.\n"
     ]
    },
    {
     "name": "stderr",
     "output_type": "stream",
     "text": [
      "C:\\Users\\abhij\\AppData\\Local\\Temp\\ipykernel_6272\\2072963072.py:66: FutureWarning: The frame.append method is deprecated and will be removed from pandas in a future version. Use pandas.concat instead.\n",
      "  df_output = df_output.append({\n"
     ]
    },
    {
     "name": "stdout",
     "output_type": "stream",
     "text": [
      "Textual analysis for https://insights.blackcoffer.com/how-to-increase-social-media-engagement-for-marketers/ completed.\n"
     ]
    },
    {
     "name": "stderr",
     "output_type": "stream",
     "text": [
      "C:\\Users\\abhij\\AppData\\Local\\Temp\\ipykernel_6272\\2072963072.py:66: FutureWarning: The frame.append method is deprecated and will be removed from pandas in a future version. Use pandas.concat instead.\n",
      "  df_output = df_output.append({\n"
     ]
    },
    {
     "name": "stdout",
     "output_type": "stream",
     "text": [
      "Textual analysis for https://insights.blackcoffer.com/impacts-of-covid-19-on-streets-sides-food-stalls/ completed.\n"
     ]
    },
    {
     "name": "stderr",
     "output_type": "stream",
     "text": [
      "C:\\Users\\abhij\\AppData\\Local\\Temp\\ipykernel_6272\\2072963072.py:66: FutureWarning: The frame.append method is deprecated and will be removed from pandas in a future version. Use pandas.concat instead.\n",
      "  df_output = df_output.append({\n"
     ]
    },
    {
     "name": "stdout",
     "output_type": "stream",
     "text": [
      "Textual analysis for https://insights.blackcoffer.com/coronavirus-impact-on-energy-markets-2/ completed.\n"
     ]
    },
    {
     "name": "stderr",
     "output_type": "stream",
     "text": [
      "C:\\Users\\abhij\\AppData\\Local\\Temp\\ipykernel_6272\\2072963072.py:66: FutureWarning: The frame.append method is deprecated and will be removed from pandas in a future version. Use pandas.concat instead.\n",
      "  df_output = df_output.append({\n"
     ]
    },
    {
     "name": "stdout",
     "output_type": "stream",
     "text": [
      "Textual analysis for https://insights.blackcoffer.com/coronavirus-impact-on-the-hospitality-industry-5/ completed.\n"
     ]
    },
    {
     "name": "stderr",
     "output_type": "stream",
     "text": [
      "C:\\Users\\abhij\\AppData\\Local\\Temp\\ipykernel_6272\\2072963072.py:66: FutureWarning: The frame.append method is deprecated and will be removed from pandas in a future version. Use pandas.concat instead.\n",
      "  df_output = df_output.append({\n"
     ]
    },
    {
     "name": "stdout",
     "output_type": "stream",
     "text": [
      "Textual analysis for https://insights.blackcoffer.com/lessons-from-the-past-some-key-learnings-relevant-to-the-coronavirus-crisis-4/ completed.\n"
     ]
    },
    {
     "name": "stderr",
     "output_type": "stream",
     "text": [
      "C:\\Users\\abhij\\AppData\\Local\\Temp\\ipykernel_6272\\2072963072.py:66: FutureWarning: The frame.append method is deprecated and will be removed from pandas in a future version. Use pandas.concat instead.\n",
      "  df_output = df_output.append({\n"
     ]
    },
    {
     "name": "stdout",
     "output_type": "stream",
     "text": [
      "Textual analysis for https://insights.blackcoffer.com/estimating-the-impact-of-covid-19-on-the-world-of-work-2/ completed.\n"
     ]
    },
    {
     "name": "stderr",
     "output_type": "stream",
     "text": [
      "C:\\Users\\abhij\\AppData\\Local\\Temp\\ipykernel_6272\\2072963072.py:66: FutureWarning: The frame.append method is deprecated and will be removed from pandas in a future version. Use pandas.concat instead.\n",
      "  df_output = df_output.append({\n"
     ]
    },
    {
     "name": "stdout",
     "output_type": "stream",
     "text": [
      "Textual analysis for https://insights.blackcoffer.com/estimating-the-impact-of-covid-19-on-the-world-of-work-3/ completed.\n"
     ]
    },
    {
     "name": "stderr",
     "output_type": "stream",
     "text": [
      "C:\\Users\\abhij\\AppData\\Local\\Temp\\ipykernel_6272\\2072963072.py:66: FutureWarning: The frame.append method is deprecated and will be removed from pandas in a future version. Use pandas.concat instead.\n",
      "  df_output = df_output.append({\n"
     ]
    },
    {
     "name": "stdout",
     "output_type": "stream",
     "text": [
      "Textual analysis for https://insights.blackcoffer.com/travel-and-tourism-outlook/ completed.\n"
     ]
    },
    {
     "name": "stderr",
     "output_type": "stream",
     "text": [
      "C:\\Users\\abhij\\AppData\\Local\\Temp\\ipykernel_6272\\2072963072.py:66: FutureWarning: The frame.append method is deprecated and will be removed from pandas in a future version. Use pandas.concat instead.\n",
      "  df_output = df_output.append({\n"
     ]
    },
    {
     "name": "stdout",
     "output_type": "stream",
     "text": [
      "Textual analysis for https://insights.blackcoffer.com/gaming-disorder-and-effects-of-gaming-on-health/ completed.\n"
     ]
    },
    {
     "name": "stderr",
     "output_type": "stream",
     "text": [
      "C:\\Users\\abhij\\AppData\\Local\\Temp\\ipykernel_6272\\2072963072.py:66: FutureWarning: The frame.append method is deprecated and will be removed from pandas in a future version. Use pandas.concat instead.\n",
      "  df_output = df_output.append({\n"
     ]
    },
    {
     "name": "stdout",
     "output_type": "stream",
     "text": [
      "Textual analysis for https://insights.blackcoffer.com/what-is-the-repercussion-of-the-environment-due-to-the-covid-19-pandemic-situation/ completed.\n"
     ]
    },
    {
     "name": "stderr",
     "output_type": "stream",
     "text": [
      "C:\\Users\\abhij\\AppData\\Local\\Temp\\ipykernel_6272\\2072963072.py:66: FutureWarning: The frame.append method is deprecated and will be removed from pandas in a future version. Use pandas.concat instead.\n",
      "  df_output = df_output.append({\n"
     ]
    },
    {
     "name": "stdout",
     "output_type": "stream",
     "text": [
      "Textual analysis for https://insights.blackcoffer.com/what-is-the-repercussion-of-the-environment-due-to-the-covid-19-pandemic-situation-2/ completed.\n"
     ]
    },
    {
     "name": "stderr",
     "output_type": "stream",
     "text": [
      "C:\\Users\\abhij\\AppData\\Local\\Temp\\ipykernel_6272\\2072963072.py:66: FutureWarning: The frame.append method is deprecated and will be removed from pandas in a future version. Use pandas.concat instead.\n",
      "  df_output = df_output.append({\n"
     ]
    },
    {
     "name": "stdout",
     "output_type": "stream",
     "text": [
      "Textual analysis for https://insights.blackcoffer.com/impact-of-covid-19-pandemic-on-office-space-and-co-working-industries/ completed.\n"
     ]
    },
    {
     "name": "stderr",
     "output_type": "stream",
     "text": [
      "C:\\Users\\abhij\\AppData\\Local\\Temp\\ipykernel_6272\\2072963072.py:66: FutureWarning: The frame.append method is deprecated and will be removed from pandas in a future version. Use pandas.concat instead.\n",
      "  df_output = df_output.append({\n"
     ]
    },
    {
     "name": "stdout",
     "output_type": "stream",
     "text": [
      "Textual analysis for https://insights.blackcoffer.com/contribution-of-handicrafts-visual-arts-literature-in-the-indian-economy/ completed.\n"
     ]
    },
    {
     "name": "stderr",
     "output_type": "stream",
     "text": [
      "C:\\Users\\abhij\\AppData\\Local\\Temp\\ipykernel_6272\\2072963072.py:66: FutureWarning: The frame.append method is deprecated and will be removed from pandas in a future version. Use pandas.concat instead.\n",
      "  df_output = df_output.append({\n"
     ]
    },
    {
     "name": "stdout",
     "output_type": "stream",
     "text": [
      "Textual analysis for https://insights.blackcoffer.com/how-covid-19-is-impacting-payment-preferences/ completed.\n",
      "Textual analysis for https://insights.blackcoffer.com/how-will-covid-19-affect-the-world-of-work-2/ completed.\n",
      "Analysis results saved to Output Data Structure.xlsx\n"
     ]
    },
    {
     "name": "stderr",
     "output_type": "stream",
     "text": [
      "C:\\Users\\abhij\\AppData\\Local\\Temp\\ipykernel_6272\\2072963072.py:66: FutureWarning: The frame.append method is deprecated and will be removed from pandas in a future version. Use pandas.concat instead.\n",
      "  df_output = df_output.append({\n"
     ]
    }
   ],
   "source": [
    "import os\n",
    "import requests\n",
    "from bs4 import BeautifulSoup\n",
    "import pandas as pd\n",
    "from nltk.tokenize import word_tokenize, sent_tokenize\n",
    "from nltk.corpus import stopwords\n",
    "from nltk.probability import FreqDist\n",
    "import nltk\n",
    "# imported nltk librarie to perform text anlysis\n",
    "\n",
    "\n",
    "\n",
    "# Created Function to extract title and text from a given URL\n",
    "def extract_article_text(url):\n",
    "    try:\n",
    "        response = requests.get(url)\n",
    "        #Parses the HTML using BeautifulSoup.\n",
    "        soup = BeautifulSoup(response.text, 'html.parser')\n",
    "\n",
    "        # Extract title and article text\n",
    "        title = soup.find('title').text.strip()\n",
    "        article_text = '\\n'.join([p.text for p in soup.find_all('p')])\n",
    "\n",
    "        return title, article_text\n",
    "    except Exception as e:\n",
    "        # Handle any errors that may occur during the extraction\n",
    "        print(f\"Error extracting data from {url}: {e}\")\n",
    "        return None, None\n",
    "    \n",
    "# this function is created fro the text analysis on the article text.\n",
    "def perform_text_analysis(article_text):\n",
    "    # Tokenize words and sentences\n",
    "    words = word_tokenize(article_text)\n",
    "    sentences = sent_tokenize(article_text)\n",
    "\n",
    "    # Remove common english stopwords\n",
    "    stop_words = set(stopwords.words('english'))\n",
    "    filtered_words = [word.lower() for word in words if word.isalnum() and word.lower() not in stop_words]\n",
    "\n",
    "    # Compute word frequency distribution\n",
    "    word_freq_dist = FreqDist(filtered_words)\n",
    "\n",
    "    # Compute variables text analysis metrics\n",
    "    total_words = len(words)\n",
    "    total_sentences = len(sentences)\n",
    "    unique_words = len(set(filtered_words))\n",
    "    most_common_word, most_common_word_freq = word_freq_dist.most_common(1)[0] if word_freq_dist else ('', 0)\n",
    "\n",
    "    return total_words, total_sentences, unique_words, most_common_word, most_common_word_freq\n",
    "\n",
    "# Main function to read input, perform analysis, and save results\n",
    "def main():\n",
    "    # Read the input Excel file containing URLs\n",
    "    input_file_path = 'Input.xlsx'\n",
    "    df_input = pd.read_excel(input_file_path)\n",
    "\n",
    "    # Create an empty DataFrame to store analysis results\n",
    "    columns = ['URL_ID', 'Total_Words', 'Total_Sentences', 'Unique_Words', 'Most_Common_Word', 'Most_Common_Word_Frequency']\n",
    "    df_output = pd.DataFrame(columns=columns)\n",
    "\n",
    "    # Loop through the URLs in the input file\n",
    "    for index, row in df_input.iterrows():\n",
    "        url_id = row['URL_ID']\n",
    "        url = row['URL']\n",
    "\n",
    "        # Extract article text\n",
    "        title, article_text = extract_article_text(url)\n",
    "\n",
    "        if title and article_text:\n",
    "            # Perform text analysis on extracted articles text\n",
    "            total_words, total_sentences, unique_words, most_common_word, most_common_word_freq = perform_text_analysis(article_text)\n",
    "\n",
    "            # Append the analysis results to the output DataFrame\n",
    "            df_output = df_output.append({\n",
    "                'URL_ID': url_id,\n",
    "                'Total_Words': total_words,\n",
    "                'Total_Sentences': total_sentences,\n",
    "                'Unique_Words': unique_words,\n",
    "                'Most_Common_Word': most_common_word,\n",
    "                'Most_Common_Word_Frequency': most_common_word_freq\n",
    "            }, ignore_index=True)\n",
    "            \n",
    "            \n",
    "            # Print a message indicating the completion of analysis for the current URL\n",
    "            print(f\"Textual analysis for {url} completed.\")\n",
    "    # Save the output DataFrame to the output structure Excel file\n",
    "    output_structure_file = 'Output Data Structure.xlsx'\n",
    "    df_output.to_excel(output_structure_file, index=False)\n",
    "    print(f\"Analysis results saved to {output_structure_file}\")\n",
    "\n",
    "if __name__ == \"__main__\":\n",
    "    main()"
   ]
  },
  {
   "cell_type": "code",
   "execution_count": 24,
   "id": "da7fcacb",
   "metadata": {},
   "outputs": [
    {
     "name": "stdout",
     "output_type": "stream",
     "text": [
      "Positive Score: 0\n",
      "Negative Score: 0\n",
      "Polarity Score: 0.0\n",
      "Subjectivity Score: 0.0\n",
      "\n",
      "Readability Analysis:\n",
      "Average Sentence Length: 2.0\n",
      "Percentage of Complex Words: 1.0\n",
      "Fog Index: 1.2000000000000002\n",
      "Average Words Per Sentence: 2.0\n",
      "Complex Word Count: 2\n",
      "Word Count: 2\n",
      "Syllable Per Word: 5\n",
      "Personal Pronouns Count: 0\n",
      "Average Word Length: 5.0\n"
     ]
    }
   ],
   "source": [
    "import re\n",
    "import nltk\n",
    "from nltk.tokenize import word_tokenize, sent_tokenize\n",
    "from nltk.corpus import stopwords\n",
    "\n",
    "\n",
    "def clean_text(text, stop_words):\n",
    "    # Remove stop words and non-alphabetic characters\n",
    "    cleaned_text = ' '.join([word.lower() for word in word_tokenize(text) if word.isalpha() and word.lower() not in stop_words])\n",
    "    return cleaned_text\n",
    "\n",
    "def calculate_sentiment_scores(text, positive_words, negative_words):\n",
    "    positive_score = sum(1 for word in word_tokenize(text) if word.lower() in positive_words)\n",
    "    negative_score = -1 * sum(1 for word in word_tokenize(text) if word.lower() in negative_words)\n",
    "    \n",
    "    polarity_score = (positive_score - negative_score) / (positive_score + negative_score + 0.000001)\n",
    "    subjectivity_score = (positive_score + negative_score) / (len(word_tokenize(text)) + 0.000001)\n",
    "    \n",
    "    return positive_score, negative_score, polarity_score, subjectivity_score\n",
    "\n",
    "def calculate_readability(text):\n",
    "    sentences = sent_tokenize(text)\n",
    "    words = word_tokenize(text)\n",
    "    \n",
    "    average_sentence_length = len(words) / len(sentences)\n",
    "    percentage_complex_words = sum(1 for word in words if len(word) > 2) / len(words)\n",
    "    \n",
    "    fog_index = 0.4 * (average_sentence_length + percentage_complex_words)\n",
    "    average_words_per_sentence = len(words) / len(sentences)\n",
    "    complex_word_count = sum(1 for word in words if len(word) > 2)\n",
    "    word_count = len(words)\n",
    "    \n",
    "    syllable_count_per_word = calculate_syllable_count(words)\n",
    "    \n",
    "    personal_pronouns_count = count_personal_pronouns(text)\n",
    "    \n",
    "    average_word_length = sum(len(word) for word in words) / len(words)\n",
    "    \n",
    "    return (\n",
    "        average_sentence_length, percentage_complex_words, fog_index,\n",
    "        average_words_per_sentence, complex_word_count, word_count,\n",
    "        syllable_count_per_word, personal_pronouns_count, average_word_length\n",
    "    )\n",
    "\n",
    "def calculate_syllable_count(words):\n",
    "    syllable_count = 0\n",
    "    for word in words:\n",
    "        syllable_count += sum(1 for char in word if char.lower() in 'aeiou')\n",
    "        \n",
    "        # Handle exceptions\n",
    "        if word.endswith(('es', 'ed')):\n",
    "            syllable_count -= 1\n",
    "    \n",
    "    return syllable_count\n",
    "\n",
    "def count_personal_pronouns(text):\n",
    "    personal_pronouns = re.findall(r'\\b(?:I|we|my|ours|us)\\b', text, flags=re.IGNORECASE)\n",
    "    return len(personal_pronouns)\n",
    "\n",
    "def main():\n",
    "    # Load stop words, positive words, and negative words\n",
    "    stop_words = set(stopwords.words('english'))\n",
    "    \n",
    "    with open('StopWords/positive-words.txt', 'r') as file:\n",
    "        positive_words = set(file.read().splitlines())\n",
    "\n",
    "    with open('StopWords/negative-words.txt', 'r') as file:\n",
    "        negative_words = set(file.read().splitlines())\n",
    "    \n",
    "    # Replace 'YourTextHere' with the actual text you want to analyze\n",
    "    your_text = 'Output Data Structure.xlsx'\n",
    "    \n",
    "    # Cleaning\n",
    "    cleaned_text = clean_text(your_text, stop_words)\n",
    "    \n",
    "    # Sentiment Analysis\n",
    "    positive_score, negative_score, polarity_score, subjectivity_score = calculate_sentiment_scores(cleaned_text, positive_words, negative_words)\n",
    "    \n",
    "    # Readability Analysis\n",
    "    readability_results = calculate_readability(cleaned_text)\n",
    "    \n",
    "    # Output Results\n",
    "    print(f\"Positive Score: {positive_score}\")\n",
    "    print(f\"Negative Score: {negative_score}\")\n",
    "    print(f\"Polarity Score: {polarity_score}\")\n",
    "    print(f\"Subjectivity Score: {subjectivity_score}\")\n",
    "    \n",
    "    print(\"\\nReadability Analysis:\")\n",
    "    print(f\"Average Sentence Length: {readability_results[0]}\")\n",
    "    print(f\"Percentage of Complex Words: {readability_results[1]}\")\n",
    "    print(f\"Fog Index: {readability_results[2]}\")\n",
    "    print(f\"Average Words Per Sentence: {readability_results[3]}\")\n",
    "    print(f\"Complex Word Count: {readability_results[4]}\")\n",
    "    print(f\"Word Count: {readability_results[5]}\")\n",
    "    print(f\"Syllable Per Word: {readability_results[6]}\")\n",
    "    print(f\"Personal Pronouns Count: {readability_results[7]}\")\n",
    "    print(f\"Average Word Length: {readability_results[8]}\")\n",
    "\n",
    "if __name__ == \"__main__\":\n",
    "    main()\n"
   ]
  },
  {
   "cell_type": "code",
   "execution_count": null,
   "id": "b25332cd",
   "metadata": {},
   "outputs": [],
   "source": []
  },
  {
   "cell_type": "code",
   "execution_count": null,
   "id": "8a66a919",
   "metadata": {},
   "outputs": [],
   "source": []
  }
 ],
 "metadata": {
  "kernelspec": {
   "display_name": "Python 3 (ipykernel)",
   "language": "python",
   "name": "python3"
  },
  "language_info": {
   "codemirror_mode": {
    "name": "ipython",
    "version": 3
   },
   "file_extension": ".py",
   "mimetype": "text/x-python",
   "name": "python",
   "nbconvert_exporter": "python",
   "pygments_lexer": "ipython3",
   "version": "3.11.3"
  }
 },
 "nbformat": 4,
 "nbformat_minor": 5
}
